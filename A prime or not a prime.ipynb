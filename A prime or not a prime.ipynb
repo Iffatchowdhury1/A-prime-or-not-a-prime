{
 "cells": [
  {
   "cell_type": "code",
   "execution_count": 32,
   "metadata": {},
   "outputs": [
    {
     "name": "stdout",
     "output_type": "stream",
     "text": [
      "Requirement already satisfied: jupyter_contrib_nbextensions in c:\\users\\iffat\\anaconda3\\lib\\site-packages (0.5.1)\n",
      "Requirement already satisfied: jupyter-highlight-selected-word>=0.1.1 in c:\\users\\iffat\\anaconda3\\lib\\site-packages (from jupyter_contrib_nbextensions) (0.2.0)\n",
      "Requirement already satisfied: nbconvert>=4.2 in c:\\users\\iffat\\anaconda3\\lib\\site-packages (from jupyter_contrib_nbextensions) (5.6.1)\n",
      "Requirement already satisfied: jupyter-core in c:\\users\\iffat\\anaconda3\\lib\\site-packages (from jupyter_contrib_nbextensions) (4.6.3)\n",
      "Requirement already satisfied: jupyter-latex-envs>=1.3.8 in c:\\users\\iffat\\anaconda3\\lib\\site-packages (from jupyter_contrib_nbextensions) (1.4.6)\n",
      "Requirement already satisfied: jupyter-nbextensions-configurator>=0.4.0 in c:\\users\\iffat\\anaconda3\\lib\\site-packages (from jupyter_contrib_nbextensions) (0.4.1)\n",
      "Requirement already satisfied: pyyaml in c:\\users\\iffat\\anaconda3\\lib\\site-packages (from jupyter_contrib_nbextensions) (5.3.1)\n",
      "Requirement already satisfied: ipython-genutils in c:\\users\\iffat\\anaconda3\\lib\\site-packages (from jupyter_contrib_nbextensions) (0.2.0)\n",
      "Requirement already satisfied: lxml in c:\\users\\iffat\\anaconda3\\lib\\site-packages (from jupyter_contrib_nbextensions) (4.5.2)\n",
      "Requirement already satisfied: tornado in c:\\users\\iffat\\anaconda3\\lib\\site-packages (from jupyter_contrib_nbextensions) (6.0.4)\n",
      "Requirement already satisfied: jupyter-contrib-core>=0.3.3 in c:\\users\\iffat\\anaconda3\\lib\\site-packages (from jupyter_contrib_nbextensions) (0.3.3)\n",
      "Requirement already satisfied: traitlets>=4.1 in c:\\users\\iffat\\anaconda3\\lib\\site-packages (from jupyter_contrib_nbextensions) (4.3.3)\n",
      "Requirement already satisfied: notebook>=4.0 in c:\\users\\iffat\\anaconda3\\lib\\site-packages (from jupyter_contrib_nbextensions) (6.0.3)\n",
      "Requirement already satisfied: jinja2>=2.4 in c:\\users\\iffat\\anaconda3\\lib\\site-packages (from nbconvert>=4.2->jupyter_contrib_nbextensions) (2.11.2)\n",
      "Requirement already satisfied: bleach in c:\\users\\iffat\\anaconda3\\lib\\site-packages (from nbconvert>=4.2->jupyter_contrib_nbextensions) (3.1.5)\n",
      "Requirement already satisfied: nbformat>=4.4 in c:\\users\\iffat\\anaconda3\\lib\\site-packages (from nbconvert>=4.2->jupyter_contrib_nbextensions) (5.0.7)\n",
      "Requirement already satisfied: defusedxml in c:\\users\\iffat\\anaconda3\\lib\\site-packages (from nbconvert>=4.2->jupyter_contrib_nbextensions) (0.6.0)\n",
      "Requirement already satisfied: pandocfilters>=1.4.1 in c:\\users\\iffat\\anaconda3\\lib\\site-packages (from nbconvert>=4.2->jupyter_contrib_nbextensions) (1.4.2)\n",
      "Requirement already satisfied: entrypoints>=0.2.2 in c:\\users\\iffat\\anaconda3\\lib\\site-packages (from nbconvert>=4.2->jupyter_contrib_nbextensions) (0.3)\n",
      "Requirement already satisfied: testpath in c:\\users\\iffat\\anaconda3\\lib\\site-packages (from nbconvert>=4.2->jupyter_contrib_nbextensions) (0.4.4)\n",
      "Requirement already satisfied: pygments in c:\\users\\iffat\\anaconda3\\lib\\site-packages (from nbconvert>=4.2->jupyter_contrib_nbextensions) (2.6.1)\n",
      "Requirement already satisfied: mistune<2,>=0.8.1 in c:\\users\\iffat\\anaconda3\\lib\\site-packages (from nbconvert>=4.2->jupyter_contrib_nbextensions) (0.8.4)\n",
      "Requirement already satisfied: pywin32>=1.0; sys_platform == \"win32\" in c:\\users\\iffat\\anaconda3\\lib\\site-packages (from jupyter-core->jupyter_contrib_nbextensions) (227)\n",
      "Requirement already satisfied: ipython in c:\\users\\iffat\\anaconda3\\lib\\site-packages (from jupyter-latex-envs>=1.3.8->jupyter_contrib_nbextensions) (7.16.1)\n",
      "Requirement already satisfied: setuptools in c:\\users\\iffat\\anaconda3\\lib\\site-packages (from jupyter-contrib-core>=0.3.3->jupyter_contrib_nbextensions) (49.2.0.post20200714)\n",
      "Requirement already satisfied: six in c:\\users\\iffat\\anaconda3\\lib\\site-packages (from traitlets>=4.1->jupyter_contrib_nbextensions) (1.15.0)\n",
      "Requirement already satisfied: decorator in c:\\users\\iffat\\anaconda3\\lib\\site-packages (from traitlets>=4.1->jupyter_contrib_nbextensions) (4.4.2)\n",
      "Requirement already satisfied: terminado>=0.8.1 in c:\\users\\iffat\\anaconda3\\lib\\site-packages (from notebook>=4.0->jupyter_contrib_nbextensions) (0.8.3)\n",
      "Requirement already satisfied: ipykernel in c:\\users\\iffat\\anaconda3\\lib\\site-packages (from notebook>=4.0->jupyter_contrib_nbextensions) (5.3.2)\n",
      "Requirement already satisfied: Send2Trash in c:\\users\\iffat\\anaconda3\\lib\\site-packages (from notebook>=4.0->jupyter_contrib_nbextensions) (1.5.0)\n",
      "Requirement already satisfied: prometheus-client in c:\\users\\iffat\\anaconda3\\lib\\site-packages (from notebook>=4.0->jupyter_contrib_nbextensions) (0.8.0)\n",
      "Requirement already satisfied: jupyter-client>=5.3.4 in c:\\users\\iffat\\anaconda3\\lib\\site-packages (from notebook>=4.0->jupyter_contrib_nbextensions) (6.1.6)\n",
      "Requirement already satisfied: pyzmq>=17 in c:\\users\\iffat\\anaconda3\\lib\\site-packages (from notebook>=4.0->jupyter_contrib_nbextensions) (19.0.1)\n",
      "Requirement already satisfied: MarkupSafe>=0.23 in c:\\users\\iffat\\anaconda3\\lib\\site-packages (from jinja2>=2.4->nbconvert>=4.2->jupyter_contrib_nbextensions) (1.1.1)\n",
      "Requirement already satisfied: webencodings in c:\\users\\iffat\\anaconda3\\lib\\site-packages (from bleach->nbconvert>=4.2->jupyter_contrib_nbextensions) (0.5.1)\n",
      "Requirement already satisfied: packaging in c:\\users\\iffat\\anaconda3\\lib\\site-packages (from bleach->nbconvert>=4.2->jupyter_contrib_nbextensions) (20.4)\n",
      "Requirement already satisfied: jsonschema!=2.5.0,>=2.4 in c:\\users\\iffat\\anaconda3\\lib\\site-packages (from nbformat>=4.4->nbconvert>=4.2->jupyter_contrib_nbextensions) (3.2.0)\n",
      "Requirement already satisfied: jedi>=0.10 in c:\\users\\iffat\\anaconda3\\lib\\site-packages (from ipython->jupyter-latex-envs>=1.3.8->jupyter_contrib_nbextensions) (0.17.1)\n",
      "Requirement already satisfied: pickleshare in c:\\users\\iffat\\anaconda3\\lib\\site-packages (from ipython->jupyter-latex-envs>=1.3.8->jupyter_contrib_nbextensions) (0.7.5)\n",
      "Requirement already satisfied: prompt-toolkit!=3.0.0,!=3.0.1,<3.1.0,>=2.0.0 in c:\\users\\iffat\\anaconda3\\lib\\site-packages (from ipython->jupyter-latex-envs>=1.3.8->jupyter_contrib_nbextensions) (3.0.5)\n",
      "Requirement already satisfied: colorama; sys_platform == \"win32\" in c:\\users\\iffat\\anaconda3\\lib\\site-packages (from ipython->jupyter-latex-envs>=1.3.8->jupyter_contrib_nbextensions) (0.4.3)\n",
      "Requirement already satisfied: backcall in c:\\users\\iffat\\anaconda3\\lib\\site-packages (from ipython->jupyter-latex-envs>=1.3.8->jupyter_contrib_nbextensions) (0.2.0)\n",
      "Requirement already satisfied: python-dateutil>=2.1 in c:\\users\\iffat\\anaconda3\\lib\\site-packages (from jupyter-client>=5.3.4->notebook>=4.0->jupyter_contrib_nbextensions) (2.8.1)\n",
      "Requirement already satisfied: pyparsing>=2.0.2 in c:\\users\\iffat\\anaconda3\\lib\\site-packages (from packaging->bleach->nbconvert>=4.2->jupyter_contrib_nbextensions) (2.4.7)\n",
      "Requirement already satisfied: pyrsistent>=0.14.0 in c:\\users\\iffat\\anaconda3\\lib\\site-packages (from jsonschema!=2.5.0,>=2.4->nbformat>=4.4->nbconvert>=4.2->jupyter_contrib_nbextensions) (0.16.0)\n",
      "Requirement already satisfied: attrs>=17.4.0 in c:\\users\\iffat\\anaconda3\\lib\\site-packages (from jsonschema!=2.5.0,>=2.4->nbformat>=4.4->nbconvert>=4.2->jupyter_contrib_nbextensions) (19.3.0)\n",
      "Requirement already satisfied: parso<0.8.0,>=0.7.0 in c:\\users\\iffat\\anaconda3\\lib\\site-packages (from jedi>=0.10->ipython->jupyter-latex-envs>=1.3.8->jupyter_contrib_nbextensions) (0.7.0)\n",
      "Requirement already satisfied: wcwidth in c:\\users\\iffat\\anaconda3\\lib\\site-packages (from prompt-toolkit!=3.0.0,!=3.0.1,<3.1.0,>=2.0.0->ipython->jupyter-latex-envs>=1.3.8->jupyter_contrib_nbextensions) (0.2.5)\n",
      "Note: you may need to restart the kernel to use updated packages.\n"
     ]
    }
   ],
   "source": [
    "pip install jupyter_contrib_nbextensions"
   ]
  },
  {
   "cell_type": "markdown",
   "metadata": {},
   "source": [
    "#           "
   ]
  },
  {
   "cell_type": "markdown",
   "metadata": {},
   "source": [
    "## Introduction\n",
    "\n",
    "This project has everything to do with primes and false primes. A false prime has characteristics similar to a prime number but it actually is not a prime number. \n",
    "\n",
    "A prime number is a positive nonzero number that is only divisible by one and itself. Note 1 is not a prime the lowest prime is 2 which is also the only even prime.\n",
    "\n",
    "prime number: 2, 3, 5, 7, 11, 13, 17, ........\n",
    "\n",
    "#### Property\n",
    "\n",
    "\n",
    "\n",
    "$a^p \\equiv a(\\mod p)$ where $p > a >= 0$ \n",
    "\n",
    "If $p$ is a prime number the property holds true.\n",
    "\n",
    "If $p$ is NOT a prime number the property usually does not hold, the none primes that make this property hold are false primes.\n",
    "\n",
    "For example $p = 561$ make the property true, not 561 is not a prime. \n",
    "\n",
    "Prime decomposition is the same thing as prime factoration.\n",
    "\n",
    "For example the prime decomposition of 561 is 3, 11, and 17 because 3x11x17 = 561. Note that 3, 11, and 17 are all prime numbers."
   ]
  },
  {
   "cell_type": "markdown",
   "metadata": {},
   "source": [
    "####     "
   ]
  },
  {
   "cell_type": "markdown",
   "metadata": {},
   "source": [
    "\n",
    "\n",
    "## Exercise 1\n"
   ]
  },
  {
   "cell_type": "code",
   "execution_count": 33,
   "metadata": {},
   "outputs": [],
   "source": [
    "import math\n",
    "def is_it_Prime(number):                             # function determines if a number is prime                                \n",
    "    if number < 2:                                  \n",
    "      return False                                    \n",
    "    for i in range(2, int(math.sqrt(number)) + 1):\n",
    "      if number % i == 0:                                \n",
    "        return False    \n",
    "    return True\n",
    "\n",
    "\n",
    "def myprimes(n):\n",
    "  list1 = []\n",
    "  for i in range(2,n+1):                        # the loop test each value from 2 to the input \"n\"\n",
    "    if is_it_Prime(i) == True:                  # \"i\" values that are prime go onto the next step \n",
    "      list1.append(i)                           # if the value of \"i\" is prime it is added to the list\n",
    "  return list1"
   ]
  },
  {
   "cell_type": "markdown",
   "metadata": {},
   "source": [
    "### Test Cases"
   ]
  },
  {
   "cell_type": "code",
   "execution_count": 34,
   "metadata": {},
   "outputs": [
    {
     "data": {
      "text/plain": [
       "[2, 3, 5, 7]"
      ]
     },
     "execution_count": 34,
     "metadata": {},
     "output_type": "execute_result"
    }
   ],
   "source": [
    "myprimes(10)\n"
   ]
  },
  {
   "cell_type": "code",
   "execution_count": 35,
   "metadata": {},
   "outputs": [
    {
     "data": {
      "text/plain": [
       "[2, 3, 5, 7, 11, 13, 17, 19, 23, 29]"
      ]
     },
     "execution_count": 35,
     "metadata": {},
     "output_type": "execute_result"
    }
   ],
   "source": [
    "myprimes(29)"
   ]
  },
  {
   "cell_type": "code",
   "execution_count": 36,
   "metadata": {},
   "outputs": [
    {
     "data": {
      "text/plain": [
       "[2, 3, 5, 7, 11, 13, 17, 19, 23, 29, 31, 37, 41, 43, 47]"
      ]
     },
     "execution_count": 36,
     "metadata": {},
     "output_type": "execute_result"
    }
   ],
   "source": [
    "myprimes(51)"
   ]
  },
  {
   "cell_type": "markdown",
   "metadata": {},
   "source": [
    "#          "
   ]
  },
  {
   "cell_type": "markdown",
   "metadata": {},
   "source": [
    "## Exercise 2\n"
   ]
  },
  {
   "cell_type": "code",
   "execution_count": 37,
   "metadata": {},
   "outputs": [],
   "source": [
    "import math\n",
    "def is_it_Prime(number):                                    # function determines if a number is prime \n",
    "    if number < 2:\n",
    "      return False                                    \n",
    "    for i in range(2, int(math.sqrt(number)) + 1):\n",
    "      if number % i == 0:                                \n",
    "        return False    \n",
    "    return True\n",
    "\n",
    "\n",
    "def myprimes(n):                               # from exercise 2\n",
    "  list1 = []                                            \n",
    "  for i in range(2,n+1):                            \n",
    "    if is_it_Prime(i) == True:\n",
    "      list1.append(i)\n",
    "  return list1                                 # it creates a list of all primes less then or equal to the input \"n\"\n",
    "\n",
    "\n",
    "def primary(n):                                         \n",
    "  list2 = myprimes(n)                         # a list of all primes less then or equal to the input \"n\"\n",
    "  list3 = []\n",
    "  for i in list2:                             # testing each value within list2\n",
    "    if n%i == 0:\n",
    "      list3.append(i)\n",
    "      n = n // i                             # establishing a new value for \"n\"\n",
    "      if n%i == 0:                           # accounts from more then one of the same numbers being a prime decomposition\n",
    "        list2.append(i)\n",
    "  list3.sort()                               # sorts the solution list so it is in order\n",
    "  return list3"
   ]
  },
  {
   "cell_type": "markdown",
   "metadata": {},
   "source": [
    "### Test Cases"
   ]
  },
  {
   "cell_type": "code",
   "execution_count": 38,
   "metadata": {},
   "outputs": [
    {
     "data": {
      "text/plain": [
       "[2, 5]"
      ]
     },
     "execution_count": 38,
     "metadata": {},
     "output_type": "execute_result"
    }
   ],
   "source": [
    "primary(10) "
   ]
  },
  {
   "cell_type": "code",
   "execution_count": 39,
   "metadata": {},
   "outputs": [
    {
     "data": {
      "text/plain": [
       "[2, 3, 3, 5]"
      ]
     },
     "execution_count": 39,
     "metadata": {},
     "output_type": "execute_result"
    }
   ],
   "source": [
    "primary(90)"
   ]
  },
  {
   "cell_type": "code",
   "execution_count": 40,
   "metadata": {},
   "outputs": [
    {
     "data": {
      "text/plain": [
       "[2, 5, 11]"
      ]
     },
     "execution_count": 40,
     "metadata": {},
     "output_type": "execute_result"
    }
   ],
   "source": [
    "primary(110)"
   ]
  },
  {
   "cell_type": "markdown",
   "metadata": {},
   "source": [
    "#    "
   ]
  },
  {
   "cell_type": "markdown",
   "metadata": {},
   "source": [
    "# Project"
   ]
  },
  {
   "cell_type": "markdown",
   "metadata": {},
   "source": [
    "## Part 1"
   ]
  },
  {
   "cell_type": "code",
   "execution_count": 41,
   "metadata": {},
   "outputs": [],
   "source": [
    "import math\n",
    "def is_it_Prime(number):                                  # function determines if a number is prime\n",
    "    if number < 2:\n",
    "      return False\n",
    "    for i in range(2, int(math.sqrt(number)) + 1):\n",
    "      if number % i == 0:\n",
    "        return False\n",
    "    return True\n",
    "\n",
    "def false_primes():                                        \n",
    "  list2 = []\n",
    "  value = 2\n",
    "  counter = 0  \n",
    "  for i in range(2,200000):                                 # test every value from 2 to 199999\n",
    "    value = i\n",
    "    if is_it_Prime(value) == False :                            # makes sure numbers are not prime\n",
    "      if ((pow(1,i))-1) % i == 0 and counter <= 19:         # the false prime must past all of the following if statements \n",
    "        if ((pow(2,i))-2) % i == 0 and counter <= 19:\n",
    "          if ((pow(3,i))-3) % i == 0 and counter <= 19:\n",
    "            if ((pow(4,i))-4) % i == 0 and counter <= 19:\n",
    "              if ((pow(5,i))-5) % i == 0 and counter <= 19:\n",
    "                if ((pow(6,i))-6) % i == 0 and counter <= 19:               \n",
    "                  if ((pow(7,i))-7) % i == 0 and counter <= 19:             \n",
    "                    if ((pow(8,i))-8) % i == 0 and counter <= 19:\n",
    "                      if ((pow(9,i))-9) % i == 0 and counter <= 19:\n",
    "                        if ((pow(10,i))-10) % i == 0 and counter <= 19:  # I tested more on my own, but they are not needed\n",
    "                          counter = counter + 1                          # once the counter hit 19 the list is made\n",
    "                          list2.append(i)\n",
    "  return list2"
   ]
  },
  {
   "cell_type": "markdown",
   "metadata": {},
   "source": [
    "#           "
   ]
  },
  {
   "cell_type": "markdown",
   "metadata": {},
   "source": [
    "## Answer (takes less than 2 mins)"
   ]
  },
  {
   "cell_type": "code",
   "execution_count": 42,
   "metadata": {},
   "outputs": [
    {
     "data": {
      "text/plain": [
       "[561,\n",
       " 1105,\n",
       " 1729,\n",
       " 2465,\n",
       " 2821,\n",
       " 6601,\n",
       " 8911,\n",
       " 10585,\n",
       " 15841,\n",
       " 29341,\n",
       " 41041,\n",
       " 46657,\n",
       " 52633,\n",
       " 62745,\n",
       " 63973,\n",
       " 75361,\n",
       " 101101,\n",
       " 115921,\n",
       " 126217,\n",
       " 162401]"
      ]
     },
     "execution_count": 42,
     "metadata": {},
     "output_type": "execute_result"
    }
   ],
   "source": [
    "false_primes()"
   ]
  },
  {
   "cell_type": "markdown",
   "metadata": {},
   "source": [
    "#    "
   ]
  },
  {
   "cell_type": "markdown",
   "metadata": {},
   "source": [
    "## Part 2"
   ]
  },
  {
   "cell_type": "markdown",
   "metadata": {},
   "source": [
    "### The primary decomposition of the first 20 false prime are the following."
   ]
  },
  {
   "cell_type": "markdown",
   "metadata": {},
   "source": [
    "#### 1) Primary Decomposition for 561"
   ]
  },
  {
   "cell_type": "code",
   "execution_count": 43,
   "metadata": {},
   "outputs": [
    {
     "data": {
      "text/plain": [
       "[3, 11, 17]"
      ]
     },
     "execution_count": 43,
     "metadata": {},
     "output_type": "execute_result"
    }
   ],
   "source": [
    "primary(561)"
   ]
  },
  {
   "cell_type": "markdown",
   "metadata": {},
   "source": [
    "#### 2) Primary Decomposition for 1105"
   ]
  },
  {
   "cell_type": "code",
   "execution_count": 44,
   "metadata": {},
   "outputs": [
    {
     "data": {
      "text/plain": [
       "[5, 13, 17]"
      ]
     },
     "execution_count": 44,
     "metadata": {},
     "output_type": "execute_result"
    }
   ],
   "source": [
    "primary(1105)"
   ]
  },
  {
   "cell_type": "markdown",
   "metadata": {},
   "source": [
    "#### 3) Primary Decomposition for 1729"
   ]
  },
  {
   "cell_type": "code",
   "execution_count": 45,
   "metadata": {},
   "outputs": [
    {
     "data": {
      "text/plain": [
       "[7, 13, 19]"
      ]
     },
     "execution_count": 45,
     "metadata": {},
     "output_type": "execute_result"
    }
   ],
   "source": [
    "primary(1729)"
   ]
  },
  {
   "cell_type": "markdown",
   "metadata": {},
   "source": [
    "#### 4) Primary Decomposition for 2465"
   ]
  },
  {
   "cell_type": "code",
   "execution_count": 46,
   "metadata": {},
   "outputs": [
    {
     "data": {
      "text/plain": [
       "[5, 17, 29]"
      ]
     },
     "execution_count": 46,
     "metadata": {},
     "output_type": "execute_result"
    }
   ],
   "source": [
    "primary(2465)"
   ]
  },
  {
   "cell_type": "markdown",
   "metadata": {},
   "source": [
    "#### 5) Primary Decomposition for 2821"
   ]
  },
  {
   "cell_type": "code",
   "execution_count": 47,
   "metadata": {},
   "outputs": [
    {
     "data": {
      "text/plain": [
       "[7, 13, 31]"
      ]
     },
     "execution_count": 47,
     "metadata": {},
     "output_type": "execute_result"
    }
   ],
   "source": [
    "primary(2821)"
   ]
  },
  {
   "cell_type": "markdown",
   "metadata": {},
   "source": [
    "#### 6) Primary Decomposition for 6601"
   ]
  },
  {
   "cell_type": "code",
   "execution_count": 48,
   "metadata": {},
   "outputs": [
    {
     "data": {
      "text/plain": [
       "[7, 23, 41]"
      ]
     },
     "execution_count": 48,
     "metadata": {},
     "output_type": "execute_result"
    }
   ],
   "source": [
    "primary(6601)"
   ]
  },
  {
   "cell_type": "markdown",
   "metadata": {},
   "source": [
    "#### 7) Primary Decomposition for 8911"
   ]
  },
  {
   "cell_type": "code",
   "execution_count": 49,
   "metadata": {},
   "outputs": [
    {
     "data": {
      "text/plain": [
       "[7, 19, 67]"
      ]
     },
     "execution_count": 49,
     "metadata": {},
     "output_type": "execute_result"
    }
   ],
   "source": [
    "primary(8911)"
   ]
  },
  {
   "cell_type": "markdown",
   "metadata": {},
   "source": [
    "#### 8) Primary Decomposition for 10585"
   ]
  },
  {
   "cell_type": "code",
   "execution_count": 50,
   "metadata": {},
   "outputs": [
    {
     "data": {
      "text/plain": [
       "[5, 29, 73]"
      ]
     },
     "execution_count": 50,
     "metadata": {},
     "output_type": "execute_result"
    }
   ],
   "source": [
    "primary(10585)"
   ]
  },
  {
   "cell_type": "markdown",
   "metadata": {},
   "source": [
    "#### 9) Primary Decomposition for 15841"
   ]
  },
  {
   "cell_type": "code",
   "execution_count": 51,
   "metadata": {},
   "outputs": [
    {
     "data": {
      "text/plain": [
       "[7, 31, 73]"
      ]
     },
     "execution_count": 51,
     "metadata": {},
     "output_type": "execute_result"
    }
   ],
   "source": [
    "primary(15841)"
   ]
  },
  {
   "cell_type": "markdown",
   "metadata": {},
   "source": [
    "#### 10) Primary Decomposition for 29341"
   ]
  },
  {
   "cell_type": "code",
   "execution_count": 52,
   "metadata": {},
   "outputs": [
    {
     "data": {
      "text/plain": [
       "[13, 37, 61]"
      ]
     },
     "execution_count": 52,
     "metadata": {},
     "output_type": "execute_result"
    }
   ],
   "source": [
    "primary(29341)"
   ]
  },
  {
   "cell_type": "markdown",
   "metadata": {},
   "source": [
    "#### 11) Primary Decomposition for 41041"
   ]
  },
  {
   "cell_type": "code",
   "execution_count": 53,
   "metadata": {},
   "outputs": [
    {
     "data": {
      "text/plain": [
       "[7, 11, 13, 41]"
      ]
     },
     "execution_count": 53,
     "metadata": {},
     "output_type": "execute_result"
    }
   ],
   "source": [
    "primary(41041)"
   ]
  },
  {
   "cell_type": "markdown",
   "metadata": {},
   "source": [
    "#### 12) Primary Decomposition for 46657"
   ]
  },
  {
   "cell_type": "code",
   "execution_count": 54,
   "metadata": {},
   "outputs": [
    {
     "data": {
      "text/plain": [
       "[13, 37, 97]"
      ]
     },
     "execution_count": 54,
     "metadata": {},
     "output_type": "execute_result"
    }
   ],
   "source": [
    "primary(46657)"
   ]
  },
  {
   "cell_type": "markdown",
   "metadata": {},
   "source": [
    "#### 13) Primary Decomposition for 52633"
   ]
  },
  {
   "cell_type": "code",
   "execution_count": 55,
   "metadata": {},
   "outputs": [
    {
     "data": {
      "text/plain": [
       "[7, 73, 103]"
      ]
     },
     "execution_count": 55,
     "metadata": {},
     "output_type": "execute_result"
    }
   ],
   "source": [
    "primary(52633)"
   ]
  },
  {
   "cell_type": "markdown",
   "metadata": {},
   "source": [
    "#### 14) Primary Decomposition for 62745"
   ]
  },
  {
   "cell_type": "code",
   "execution_count": 56,
   "metadata": {},
   "outputs": [
    {
     "data": {
      "text/plain": [
       "[3, 5, 47, 89]"
      ]
     },
     "execution_count": 56,
     "metadata": {},
     "output_type": "execute_result"
    }
   ],
   "source": [
    "primary(62745)"
   ]
  },
  {
   "cell_type": "markdown",
   "metadata": {},
   "source": [
    "#### 15) Primary Decomposition for 63973"
   ]
  },
  {
   "cell_type": "code",
   "execution_count": 57,
   "metadata": {},
   "outputs": [
    {
     "data": {
      "text/plain": [
       "[7, 13, 19, 37]"
      ]
     },
     "execution_count": 57,
     "metadata": {},
     "output_type": "execute_result"
    }
   ],
   "source": [
    "primary(63973)"
   ]
  },
  {
   "cell_type": "markdown",
   "metadata": {},
   "source": [
    "#### 16) Primary Decomposition for 75361"
   ]
  },
  {
   "cell_type": "code",
   "execution_count": 58,
   "metadata": {},
   "outputs": [
    {
     "data": {
      "text/plain": [
       "[11, 13, 17, 31]"
      ]
     },
     "execution_count": 58,
     "metadata": {},
     "output_type": "execute_result"
    }
   ],
   "source": [
    "primary(75361)"
   ]
  },
  {
   "cell_type": "markdown",
   "metadata": {},
   "source": [
    "#### 17) Primary Decomposition for 101101"
   ]
  },
  {
   "cell_type": "code",
   "execution_count": 59,
   "metadata": {},
   "outputs": [
    {
     "data": {
      "text/plain": [
       "[7, 11, 13, 101]"
      ]
     },
     "execution_count": 59,
     "metadata": {},
     "output_type": "execute_result"
    }
   ],
   "source": [
    "primary(101101)"
   ]
  },
  {
   "cell_type": "markdown",
   "metadata": {},
   "source": [
    "#### 18) Primary Decomposition for 115921"
   ]
  },
  {
   "cell_type": "code",
   "execution_count": 60,
   "metadata": {},
   "outputs": [
    {
     "data": {
      "text/plain": [
       "[13, 37, 241]"
      ]
     },
     "execution_count": 60,
     "metadata": {},
     "output_type": "execute_result"
    }
   ],
   "source": [
    "primary(115921)"
   ]
  },
  {
   "cell_type": "markdown",
   "metadata": {},
   "source": [
    "#### 19) Primary Decomposition for 126217"
   ]
  },
  {
   "cell_type": "code",
   "execution_count": 61,
   "metadata": {},
   "outputs": [
    {
     "data": {
      "text/plain": [
       "[7, 13, 19, 73]"
      ]
     },
     "execution_count": 61,
     "metadata": {},
     "output_type": "execute_result"
    }
   ],
   "source": [
    "primary(126217)"
   ]
  },
  {
   "cell_type": "markdown",
   "metadata": {},
   "source": [
    "#### 20) Primary Decomposition for 162401"
   ]
  },
  {
   "cell_type": "code",
   "execution_count": 62,
   "metadata": {},
   "outputs": [
    {
     "data": {
      "text/plain": [
       "[17, 41, 233]"
      ]
     },
     "execution_count": 62,
     "metadata": {},
     "output_type": "execute_result"
    }
   ],
   "source": [
    "primary(162401)"
   ]
  },
  {
   "cell_type": "markdown",
   "metadata": {},
   "source": [
    "#       "
   ]
  },
  {
   "cell_type": "markdown",
   "metadata": {},
   "source": [
    "## Part 3"
   ]
  },
  {
   "cell_type": "markdown",
   "metadata": {},
   "source": [
    "### Question: What can you say or conjecture about properties of false primes?"
   ]
  },
  {
   "cell_type": "markdown",
   "metadata": {},
   "source": [
    "As mentioned by the project outline $a^p \\equiv a(\\mod p)$ when $p > a >= 0$ and $p$ is a prime. This property holds true for all $p$ that are prime numbers. However there are cases where $p$ is NOT a prime number but this property still holds. \n",
    "\n",
    "False primes in general seem to be larger numbers considering that the first false prime is 561 and the 20th false prime is 162,401.\n",
    "\n",
    "Furthermore each consecutive false prime has a large gap beween the two numbers. \n",
    "\n",
    "For example \n",
    "\n",
    "$1105 - 561 = 544$\n",
    "\n",
    "$1729 - 1105 = 624$\n",
    "\n",
    "$ 162401 - 126217 = 36184 $\n",
    "\n",
    "The gap between false primes keeps growing in size.\n",
    "\n",
    "Each false prime gets much larger then the previous one (exponential growth).\n",
    " \n",
    "Also when prime decomposition occurs all of the false primes factors are primes.\n",
    " "
   ]
  },
  {
   "cell_type": "markdown",
   "metadata": {},
   "source": [
    "#     "
   ]
  },
  {
   "cell_type": "markdown",
   "metadata": {},
   "source": [
    "## Conclusion\n",
    "\n",
    " The first 20 false prime are the following: 561, 1105, 1729, 2465, 2821, 6601, 8911, 10585, 15841, 29341, 41041, 46657, 52633, 62745, 63973, 75361, 101101, 115921, 126217, and 162401. All these numbers passed the test of $a^p \\equiv  a(\\mod p)$ when $p > a >= 0.$\n",
    "\n",
    " $p$ in this case would be each of the false primes, most none primes fail this test but false primes pass this test. To prove that each of these numbers are actually NOT prime in part 2 of the project we took each of these false primes to find the decompostion of each of them. This project demonstated that many test cases need to be done to prove a certain property, for instance the property of $a^p \\equiv a(\\mod p)$ when $p > a >= 0$ can't be used exclusively to determine if a number is prime because there are not primes that when put in as $p$ makes the provety true.\n",
    "\n",
    "False primes are very far a part from on another and the number jumps higher each consecutive false prime."
   ]
  }
 ],
 "metadata": {
  "kernelspec": {
   "display_name": "Python 3",
   "language": "python",
   "name": "python3"
  },
  "language_info": {
   "codemirror_mode": {
    "name": "ipython",
    "version": 3
   },
   "file_extension": ".py",
   "mimetype": "text/x-python",
   "name": "python",
   "nbconvert_exporter": "python",
   "pygments_lexer": "ipython3",
   "version": "3.8.3"
  }
 },
 "nbformat": 4,
 "nbformat_minor": 4
}
